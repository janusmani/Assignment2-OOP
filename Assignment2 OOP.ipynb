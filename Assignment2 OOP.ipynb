{
 "cells": [
  {
   "cell_type": "code",
   "execution_count": 46,
   "id": "ade265e3",
   "metadata": {},
   "outputs": [
    {
     "name": "stdout",
     "output_type": "stream",
     "text": [
      "['color', 'cook', 'fname', 'gender', 'hair_color', 'height', 'name', 'national', 'occupation', 'relign', 'slient', 'speak', 'student']\n"
     ]
    }
   ],
   "source": [
    "\n",
    "#Name: Usman Noor Roll No: PIAIC 188401 Batch: 37 (Online) Teacher: Sir Qasim\n",
    "\n",
    "#Task 1:\n",
    "\n",
    "#import mother and father attribute\n",
    "#add two new attributes in the child constructor\n",
    "#Task2: Create operator overloading\n",
    "\n",
    "# creating Father class\n",
    "class Father():\n",
    "    def __init__(self):\n",
    "        self.name = 'Usman noor'\n",
    "        self.fname = 'Noor ul islam'\n",
    "        self.color = 'whitish'\n",
    "        self.hair_color = 'dark brown'\n",
    "        self .national = 'Pakistani'\n",
    "        self.occupation = 'Teacher'\n",
    "        \n",
    "    def speak(self):\n",
    "        return \"Hahahah!\"\n",
    "# creating Mother class\n",
    " \n",
    "class Mother():\n",
    "    def __init__(self):\n",
    "        self.height = '5.6 feet'\n",
    "        self.color = 'white'\n",
    "        self.relign = 'Muslim'\n",
    "        self.occupation = 'Housewife'\n",
    "        self.cook = None \n",
    "\n",
    "    def slient(self):\n",
    "        return \"...\"\n",
    "    \n",
    "class Child(Mother,Father):\n",
    "     def __init__(self):\n",
    "        Mother.__init__(self)\n",
    "        Father.__init__(self)\n",
    "        self.gender = None \n",
    "        self.student = None\n",
    "\n",
    "        \n",
    "c1 = Child()\n",
    "print([i for i in dir(c1) if \"__\" not in i])\n"
   ]
  },
  {
   "cell_type": "code",
   "execution_count": 45,
   "id": "4c773a37",
   "metadata": {},
   "outputs": [
    {
     "name": "stdout",
     "output_type": "stream",
     "text": [
      "680\n"
     ]
    }
   ],
   "source": [
    "#Assignment2:\n",
    "#Create operator overloading\n",
    "\n",
    "class item:\n",
    "  def __init__(self,name,price):\n",
    "    self.price = price\n",
    "    self.name = name\n",
    "  def __add__(first, second):\n",
    "    x = first.price+second.price\n",
    "    return x\n",
    "\n",
    "item1 = item(\"bread\", 180)\n",
    "item2 = item(\"Honey\",500)\n",
    "\n",
    "print(item1+item2)\n",
    "    \n"
   ]
  }
 ],
 "metadata": {
  "kernelspec": {
   "display_name": "Python 3",
   "language": "python",
   "name": "python3"
  },
  "language_info": {
   "codemirror_mode": {
    "name": "ipython",
    "version": 3
   },
   "file_extension": ".py",
   "mimetype": "text/x-python",
   "name": "python",
   "nbconvert_exporter": "python",
   "pygments_lexer": "ipython3",
   "version": "3.8.8"
  }
 },
 "nbformat": 4,
 "nbformat_minor": 5
}
